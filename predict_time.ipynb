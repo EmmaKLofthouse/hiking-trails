{
 "cells": [
  {
   "cell_type": "markdown",
   "metadata": {},
   "source": [
    "# Hiking Trail Time predictor"
   ]
  },
  {
   "cell_type": "markdown",
   "metadata": {},
   "source": [
    "**Goal:** Use a database of hiking trails with various parameters to predict the average walking time."
   ]
  },
  {
   "cell_type": "markdown",
   "metadata": {},
   "source": [
    "## Table of contents\n",
    "1. [Introduction](#intro)\n",
    "2. [Dataset](#dataset)\n",
    "3. [Loading modules and data](#loading)\n",
    "4. [Data pre-processing](#pre-process)\n"
   ]
  },
  {
   "cell_type": "markdown",
   "metadata": {},
   "source": [
    "# Introduction <a name=\"intro\"></a>\n",
    "\n",
    "TBD"
   ]
  },
  {
   "cell_type": "markdown",
   "metadata": {},
   "source": [
    "# Dataset <a name=\"dataset\"></a>"
   ]
  },
  {
   "cell_type": "markdown",
   "metadata": {},
   "source": [
    "TBD"
   ]
  },
  {
   "cell_type": "markdown",
   "metadata": {},
   "source": [
    "# Loading modules and data <a name=\"loading\"></a>"
   ]
  },
  {
   "cell_type": "code",
   "execution_count": 138,
   "metadata": {},
   "outputs": [],
   "source": [
    "import sys\n",
    "import warnings\n",
    "from urllib.parse import urlparse\n",
    "import numpy as np\n",
    "import pandas as pd\n",
    "\n",
    "# plotting\n",
    "import seaborn as sns\n",
    "import matplotlib.pyplot as plt\n",
    "\n",
    "# model\n",
    "from sklearn.model_selection import train_test_split\n",
    "from sklearn.preprocessing import StandardScaler, OneHotEncoder\n",
    "from sklearn.tree import DecisionTreeClassifier\n",
    "from xgboost import XGBRegressor, plot_importance\n",
    "\n",
    "# mlflow\n",
    "import mlflow\n",
    "import mlflow.sklearn\n",
    "import mlflow.xgboost\n",
    "mlflow.set_experiment(experiment_name=\"hiking\");\n",
    "\n",
    "RANDOM_STATE = 42\n"
   ]
  },
  {
   "cell_type": "code",
   "execution_count": 2,
   "metadata": {},
   "outputs": [],
   "source": [
    "# Load the data\n",
    "df=pd.read_csv(\"gpx-tracks-from-hikr.org.csv\")"
   ]
  },
  {
   "cell_type": "code",
   "execution_count": 3,
   "metadata": {},
   "outputs": [
    {
     "data": {
      "text/html": [
       "<div>\n",
       "<style scoped>\n",
       "    .dataframe tbody tr th:only-of-type {\n",
       "        vertical-align: middle;\n",
       "    }\n",
       "\n",
       "    .dataframe tbody tr th {\n",
       "        vertical-align: top;\n",
       "    }\n",
       "\n",
       "    .dataframe thead th {\n",
       "        text-align: right;\n",
       "    }\n",
       "</style>\n",
       "<table border=\"1\" class=\"dataframe\">\n",
       "  <thead>\n",
       "    <tr style=\"text-align: right;\">\n",
       "      <th></th>\n",
       "      <th>_id</th>\n",
       "      <th>length_3d</th>\n",
       "      <th>user</th>\n",
       "      <th>start_time</th>\n",
       "      <th>max_elevation</th>\n",
       "      <th>bounds</th>\n",
       "      <th>uphill</th>\n",
       "      <th>moving_time</th>\n",
       "      <th>end_time</th>\n",
       "      <th>max_speed</th>\n",
       "      <th>gpx</th>\n",
       "      <th>difficulty</th>\n",
       "      <th>min_elevation</th>\n",
       "      <th>url</th>\n",
       "      <th>downhill</th>\n",
       "      <th>name</th>\n",
       "      <th>length_2d</th>\n",
       "    </tr>\n",
       "  </thead>\n",
       "  <tbody>\n",
       "    <tr>\n",
       "      <th>0</th>\n",
       "      <td>5afb229e8f80884aaad9c6ea</td>\n",
       "      <td>10832.953016</td>\n",
       "      <td>Bergfritz</td>\n",
       "      <td>2018-05-11 07:37:40</td>\n",
       "      <td>1934.47</td>\n",
       "      <td>{'min': {'type': 'Point', 'coordinates': [13.2...</td>\n",
       "      <td>612.880</td>\n",
       "      <td>12155.0</td>\n",
       "      <td>2018-05-11 11:38:23</td>\n",
       "      <td>1.595493</td>\n",
       "      <td>&lt;?xml version=\"1.0\" encoding=\"UTF-8\"?&gt;\\n&lt;gpx x...</td>\n",
       "      <td>T2 - Mountain hike</td>\n",
       "      <td>1322.96</td>\n",
       "      <td>http://www.hikr.org/tour/post131855.html</td>\n",
       "      <td>609.670</td>\n",
       "      <td>Remsteinkopf, 1945 m</td>\n",
       "      <td>10832.953016</td>\n",
       "    </tr>\n",
       "    <tr>\n",
       "      <th>1</th>\n",
       "      <td>5afb229e8f80884aaad9c6eb</td>\n",
       "      <td>12259.376315</td>\n",
       "      <td>Bergfritz</td>\n",
       "      <td>2018-05-12 07:25:08</td>\n",
       "      <td>2186.21</td>\n",
       "      <td>{'min': {'type': 'Point', 'coordinates': [13.1...</td>\n",
       "      <td>614.753</td>\n",
       "      <td>13876.0</td>\n",
       "      <td>2018-05-12 12:08:28</td>\n",
       "      <td>1.394320</td>\n",
       "      <td>&lt;?xml version=\"1.0\" encoding=\"UTF-8\"?&gt;\\n&lt;gpx x...</td>\n",
       "      <td>T3 - Difficult Mountain hike</td>\n",
       "      <td>1266.40</td>\n",
       "      <td>http://www.hikr.org/tour/post131856.html</td>\n",
       "      <td>1193.733</td>\n",
       "      <td>Schuhflicker, 2214 m</td>\n",
       "      <td>12259.376315</td>\n",
       "    </tr>\n",
       "    <tr>\n",
       "      <th>2</th>\n",
       "      <td>5afb229e8f80884aaad9c6ec</td>\n",
       "      <td>22980.168081</td>\n",
       "      <td>igor</td>\n",
       "      <td>2018-05-11 06:29:38</td>\n",
       "      <td>2265.00</td>\n",
       "      <td>{'min': {'type': 'Point', 'coordinates': [8.99...</td>\n",
       "      <td>2255.976</td>\n",
       "      <td>28971.0</td>\n",
       "      <td>2018-05-11 15:32:43</td>\n",
       "      <td>1.503002</td>\n",
       "      <td>&lt;?xml version=\"1.0\" encoding=\"UTF-8\"?&gt;\\n&lt;gpx x...</td>\n",
       "      <td>T3 - Difficult Mountain hike</td>\n",
       "      <td>176.54</td>\n",
       "      <td>http://www.hikr.org/tour/post131839.html</td>\n",
       "      <td>2177.626</td>\n",
       "      <td>Cima d'erbea Est quota 2164m e  Gaggio 2267m</td>\n",
       "      <td>22980.168081</td>\n",
       "    </tr>\n",
       "  </tbody>\n",
       "</table>\n",
       "</div>"
      ],
      "text/plain": [
       "                        _id     length_3d       user           start_time  \\\n",
       "0  5afb229e8f80884aaad9c6ea  10832.953016  Bergfritz  2018-05-11 07:37:40   \n",
       "1  5afb229e8f80884aaad9c6eb  12259.376315  Bergfritz  2018-05-12 07:25:08   \n",
       "2  5afb229e8f80884aaad9c6ec  22980.168081       igor  2018-05-11 06:29:38   \n",
       "\n",
       "   max_elevation                                             bounds    uphill  \\\n",
       "0        1934.47  {'min': {'type': 'Point', 'coordinates': [13.2...   612.880   \n",
       "1        2186.21  {'min': {'type': 'Point', 'coordinates': [13.1...   614.753   \n",
       "2        2265.00  {'min': {'type': 'Point', 'coordinates': [8.99...  2255.976   \n",
       "\n",
       "   moving_time             end_time  max_speed  \\\n",
       "0      12155.0  2018-05-11 11:38:23   1.595493   \n",
       "1      13876.0  2018-05-12 12:08:28   1.394320   \n",
       "2      28971.0  2018-05-11 15:32:43   1.503002   \n",
       "\n",
       "                                                 gpx  \\\n",
       "0  <?xml version=\"1.0\" encoding=\"UTF-8\"?>\\n<gpx x...   \n",
       "1  <?xml version=\"1.0\" encoding=\"UTF-8\"?>\\n<gpx x...   \n",
       "2  <?xml version=\"1.0\" encoding=\"UTF-8\"?>\\n<gpx x...   \n",
       "\n",
       "                     difficulty  min_elevation  \\\n",
       "0            T2 - Mountain hike        1322.96   \n",
       "1  T3 - Difficult Mountain hike        1266.40   \n",
       "2  T3 - Difficult Mountain hike         176.54   \n",
       "\n",
       "                                        url  downhill  \\\n",
       "0  http://www.hikr.org/tour/post131855.html   609.670   \n",
       "1  http://www.hikr.org/tour/post131856.html  1193.733   \n",
       "2  http://www.hikr.org/tour/post131839.html  2177.626   \n",
       "\n",
       "                                            name     length_2d  \n",
       "0                           Remsteinkopf, 1945 m  10832.953016  \n",
       "1                           Schuhflicker, 2214 m  12259.376315  \n",
       "2   Cima d'erbea Est quota 2164m e  Gaggio 2267m  22980.168081  "
      ]
     },
     "execution_count": 3,
     "metadata": {},
     "output_type": "execute_result"
    }
   ],
   "source": [
    "df.head(3)"
   ]
  },
  {
   "cell_type": "code",
   "execution_count": 4,
   "metadata": {},
   "outputs": [
    {
     "data": {
      "text/plain": [
       "Index(['_id', 'length_3d', 'user', 'start_time', 'max_elevation', 'bounds',\n",
       "       'uphill', 'moving_time', 'end_time', 'max_speed', 'gpx', 'difficulty',\n",
       "       'min_elevation', 'url', 'downhill', 'name', 'length_2d'],\n",
       "      dtype='object')"
      ]
     },
     "execution_count": 4,
     "metadata": {},
     "output_type": "execute_result"
    }
   ],
   "source": [
    "df.columns"
   ]
  },
  {
   "cell_type": "code",
   "execution_count": 5,
   "metadata": {},
   "outputs": [
    {
     "data": {
      "text/plain": [
       "(12141, 17)"
      ]
     },
     "execution_count": 5,
     "metadata": {},
     "output_type": "execute_result"
    }
   ],
   "source": [
    "df.shape"
   ]
  },
  {
   "cell_type": "markdown",
   "metadata": {},
   "source": [
    "# Data pre-processing <a name=\"pre-process\"></a>"
   ]
  },
  {
   "cell_type": "markdown",
   "metadata": {},
   "source": [
    "We can immediately drop some columns that won't be useful"
   ]
  },
  {
   "cell_type": "code",
   "execution_count": 6,
   "metadata": {},
   "outputs": [],
   "source": [
    "df=df.drop(['_id','bounds','gpx','name','start_time','end_time','url','max_speed'],axis=1)"
   ]
  },
  {
   "cell_type": "code",
   "execution_count": 7,
   "metadata": {},
   "outputs": [
    {
     "data": {
      "text/plain": [
       "(12141, 9)"
      ]
     },
     "execution_count": 7,
     "metadata": {},
     "output_type": "execute_result"
    }
   ],
   "source": [
    "df.shape"
   ]
  },
  {
   "cell_type": "code",
   "execution_count": 8,
   "metadata": {},
   "outputs": [
    {
     "name": "stdout",
     "output_type": "stream",
     "text": [
      "<class 'pandas.core.frame.DataFrame'>\n",
      "RangeIndex: 12141 entries, 0 to 12140\n",
      "Data columns (total 9 columns):\n",
      " #   Column         Non-Null Count  Dtype  \n",
      "---  ------         --------------  -----  \n",
      " 0   length_3d      12141 non-null  float64\n",
      " 1   user           12141 non-null  object \n",
      " 2   max_elevation  10563 non-null  float64\n",
      " 3   uphill         12141 non-null  float64\n",
      " 4   moving_time    12141 non-null  float64\n",
      " 5   difficulty     12141 non-null  object \n",
      " 6   min_elevation  10563 non-null  float64\n",
      " 7   downhill       12141 non-null  float64\n",
      " 8   length_2d      12141 non-null  float64\n",
      "dtypes: float64(7), object(2)\n",
      "memory usage: 853.8+ KB\n"
     ]
    }
   ],
   "source": [
    "df.info()"
   ]
  },
  {
   "cell_type": "markdown",
   "metadata": {},
   "source": [
    "## Converting the difficulty to a numerical value\n",
    "Let's convert the difficulty into a number for easier use. First we can investigate the current difficulty ratings."
   ]
  },
  {
   "cell_type": "code",
   "execution_count": 9,
   "metadata": {},
   "outputs": [
    {
     "data": {
      "text/plain": [
       "array(['T1 - Valley hike', 'T2 - Mountain hike',\n",
       "       'T3 - Difficult Mountain hike', 'T3+ - Difficult Mountain hike',\n",
       "       'T4 - High-level Alpine hike', 'T4+ - High-level Alpine hike',\n",
       "       'T4- - High-level Alpine hike',\n",
       "       'T5 - Challenging High-level Alpine hike',\n",
       "       'T5+ - Challenging High-level Alpine hike',\n",
       "       'T5- - Challenging High-level Alpine hike',\n",
       "       'T6 - Difficult High-level Alpine hike',\n",
       "       'T6+ - Difficult High-level Alpine hike',\n",
       "       'T6- - Difficult High-level Alpine hike'], dtype=object)"
      ]
     },
     "execution_count": 9,
     "metadata": {},
     "output_type": "execute_result"
    }
   ],
   "source": [
    "np.unique(df.difficulty)"
   ]
  },
  {
   "cell_type": "code",
   "execution_count": 10,
   "metadata": {},
   "outputs": [
    {
     "data": {
      "text/plain": [
       "difficulty\n",
       "T2 - Mountain hike                          3855\n",
       "T3 - Difficult Mountain hike                2898\n",
       "T3+ - Difficult Mountain hike               1225\n",
       "T1 - Valley hike                            1142\n",
       "T4 - High-level Alpine hike                  932\n",
       "T5 - Challenging High-level Alpine hike      480\n",
       "T4- - High-level Alpine hike                 470\n",
       "T4+ - High-level Alpine hike                 422\n",
       "T5- - Challenging High-level Alpine hike     226\n",
       "T5+ - Challenging High-level Alpine hike     174\n",
       "T6 - Difficult High-level Alpine hike        171\n",
       "T6- - Difficult High-level Alpine hike       134\n",
       "T6+ - Difficult High-level Alpine hike        12\n",
       "dtype: int64"
      ]
     },
     "execution_count": 10,
     "metadata": {},
     "output_type": "execute_result"
    }
   ],
   "source": [
    "df.value_counts('difficulty')"
   ]
  },
  {
   "cell_type": "markdown",
   "metadata": {},
   "source": [
    "We can use the numbers after T for our numeric difficulty but we also need to account for the '+' and '-' in the ratings. We want to convert this into a number but keep some relative information of which is more or less difficult. To do this, we can change the difficult strings into float values. "
   ]
  },
  {
   "cell_type": "code",
   "execution_count": 11,
   "metadata": {},
   "outputs": [
    {
     "name": "stdout",
     "output_type": "stream",
     "text": [
      "New difficulty values are: [1.5 2.5 3.5 3.8 4.2 4.5 4.8 5.2 5.5 5.8 6.2 6.5 6.8]\n"
     ]
    }
   ],
   "source": [
    "def dif_to_num(i):\n",
    "    #convert difficulty string to a float\n",
    "    \n",
    "    if i[2] == \"+\":          #e.g. for 3+ return 3.8\n",
    "        return int(i[1])+0.8\n",
    "    elif i[2]== \"-\":         #e.g. for 3- return 3.2\n",
    "        return int(i[1])+0.2 \n",
    "    else:                    #e.g. for 3 return 3.5\n",
    "        return int(i[1])+0.5 \n",
    "\n",
    "df['dif_num'] = [dif_to_num(d) for d in df['difficulty']]\n",
    "print(f\"New difficulty values are: {np.unique(df.dif_num)}\")"
   ]
  },
  {
   "cell_type": "code",
   "execution_count": 12,
   "metadata": {},
   "outputs": [
    {
     "data": {
      "text/plain": [
       "dif_num\n",
       "2.5    3855\n",
       "3.5    2898\n",
       "3.8    1225\n",
       "1.5    1142\n",
       "4.5     932\n",
       "5.5     480\n",
       "4.2     470\n",
       "4.8     422\n",
       "5.2     226\n",
       "5.8     174\n",
       "6.5     171\n",
       "6.2     134\n",
       "6.8      12\n",
       "dtype: int64"
      ]
     },
     "execution_count": 12,
     "metadata": {},
     "output_type": "execute_result"
    }
   ],
   "source": [
    "df.value_counts('dif_num')"
   ]
  },
  {
   "cell_type": "code",
   "execution_count": 13,
   "metadata": {},
   "outputs": [
    {
     "data": {
      "image/png": "[encoded data removed]",
      "text/plain": [
       "<Figure size 432x288 with 1 Axes>"
      ]
     },
     "metadata": {
      "needs_background": "light"
     },
     "output_type": "display_data"
    }
   ],
   "source": [
    "sns.histplot(df.dif_num)\n",
    "plt.xlabel(\"Numerical Difficulty\");"
   ]
  },
  {
   "cell_type": "markdown",
   "metadata": {},
   "source": [
    "Majority are 2 or 3 but dont have any 2-, 2+ or 3-. research shows this is the swiss hiking scale (URL) (SAC or Swiss Alpine Club scale). ratings on hikr.org only use finer scale with + and - symbols at grade 3 and above. "
   ]
  },
  {
   "cell_type": "code",
   "execution_count": 14,
   "metadata": {},
   "outputs": [],
   "source": [
    "df=df.drop([\"difficulty\"],axis=1)"
   ]
  },
  {
   "cell_type": "markdown",
   "metadata": {},
   "source": [
    "Now let's explore the properties of the numeric parameters:\n",
    "\n",
    "## Check for missing values"
   ]
  },
  {
   "cell_type": "code",
   "execution_count": 15,
   "metadata": {},
   "outputs": [
    {
     "data": {
      "text/plain": [
       "length_3d           0\n",
       "user                0\n",
       "max_elevation    1578\n",
       "uphill              0\n",
       "moving_time         0\n",
       "min_elevation    1578\n",
       "downhill            0\n",
       "length_2d           0\n",
       "dif_num             0\n",
       "dtype: int64"
      ]
     },
     "execution_count": 15,
     "metadata": {},
     "output_type": "execute_result"
    }
   ],
   "source": [
    "df.isnull().sum()"
   ]
  },
  {
   "cell_type": "markdown",
   "metadata": {},
   "source": [
    "There's a lot of entries without elevation data. While these entries may have still been useful for our project based on other parameters, we see below that these entries often have moving times of 0 seconds. Therefore, we chose to remove them for the database. "
   ]
  },
  {
   "cell_type": "code",
   "execution_count": 16,
   "metadata": {},
   "outputs": [
    {
     "data": {
      "text/html": [
       "<div>\n",
       "<style scoped>\n",
       "    .dataframe tbody tr th:only-of-type {\n",
       "        vertical-align: middle;\n",
       "    }\n",
       "\n",
       "    .dataframe tbody tr th {\n",
       "        vertical-align: top;\n",
       "    }\n",
       "\n",
       "    .dataframe thead th {\n",
       "        text-align: right;\n",
       "    }\n",
       "</style>\n",
       "<table border=\"1\" class=\"dataframe\">\n",
       "  <thead>\n",
       "    <tr style=\"text-align: right;\">\n",
       "      <th></th>\n",
       "      <th>length_3d</th>\n",
       "      <th>user</th>\n",
       "      <th>max_elevation</th>\n",
       "      <th>uphill</th>\n",
       "      <th>moving_time</th>\n",
       "      <th>min_elevation</th>\n",
       "      <th>downhill</th>\n",
       "      <th>length_2d</th>\n",
       "      <th>dif_num</th>\n",
       "    </tr>\n",
       "  </thead>\n",
       "  <tbody>\n",
       "    <tr>\n",
       "      <th>43</th>\n",
       "      <td>0.000000</td>\n",
       "      <td>poudrieres</td>\n",
       "      <td>NaN</td>\n",
       "      <td>0.0</td>\n",
       "      <td>0.0</td>\n",
       "      <td>NaN</td>\n",
       "      <td>0.0</td>\n",
       "      <td>0.000000</td>\n",
       "      <td>6.5</td>\n",
       "    </tr>\n",
       "    <tr>\n",
       "      <th>86</th>\n",
       "      <td>0.000000</td>\n",
       "      <td>zaufen</td>\n",
       "      <td>NaN</td>\n",
       "      <td>0.0</td>\n",
       "      <td>0.0</td>\n",
       "      <td>NaN</td>\n",
       "      <td>0.0</td>\n",
       "      <td>0.000000</td>\n",
       "      <td>3.5</td>\n",
       "    </tr>\n",
       "    <tr>\n",
       "      <th>87</th>\n",
       "      <td>0.000000</td>\n",
       "      <td>zaufen</td>\n",
       "      <td>NaN</td>\n",
       "      <td>0.0</td>\n",
       "      <td>0.0</td>\n",
       "      <td>NaN</td>\n",
       "      <td>0.0</td>\n",
       "      <td>0.000000</td>\n",
       "      <td>1.5</td>\n",
       "    </tr>\n",
       "    <tr>\n",
       "      <th>88</th>\n",
       "      <td>0.000000</td>\n",
       "      <td>zaufen</td>\n",
       "      <td>NaN</td>\n",
       "      <td>0.0</td>\n",
       "      <td>0.0</td>\n",
       "      <td>NaN</td>\n",
       "      <td>0.0</td>\n",
       "      <td>0.000000</td>\n",
       "      <td>3.5</td>\n",
       "    </tr>\n",
       "    <tr>\n",
       "      <th>90</th>\n",
       "      <td>8906.247367</td>\n",
       "      <td>Riosambesi</td>\n",
       "      <td>NaN</td>\n",
       "      <td>0.0</td>\n",
       "      <td>0.0</td>\n",
       "      <td>NaN</td>\n",
       "      <td>0.0</td>\n",
       "      <td>8906.247367</td>\n",
       "      <td>2.5</td>\n",
       "    </tr>\n",
       "  </tbody>\n",
       "</table>\n",
       "</div>"
      ],
      "text/plain": [
       "      length_3d        user  max_elevation  uphill  moving_time  \\\n",
       "43     0.000000  poudrieres            NaN     0.0          0.0   \n",
       "86     0.000000      zaufen            NaN     0.0          0.0   \n",
       "87     0.000000      zaufen            NaN     0.0          0.0   \n",
       "88     0.000000      zaufen            NaN     0.0          0.0   \n",
       "90  8906.247367  Riosambesi            NaN     0.0          0.0   \n",
       "\n",
       "    min_elevation  downhill    length_2d  dif_num  \n",
       "43            NaN       0.0     0.000000      6.5  \n",
       "86            NaN       0.0     0.000000      3.5  \n",
       "87            NaN       0.0     0.000000      1.5  \n",
       "88            NaN       0.0     0.000000      3.5  \n",
       "90            NaN       0.0  8906.247367      2.5  "
      ]
     },
     "execution_count": 16,
     "metadata": {},
     "output_type": "execute_result"
    }
   ],
   "source": [
    "df[df.max_elevation.isnull()][:5]"
   ]
  },
  {
   "cell_type": "code",
   "execution_count": 17,
   "metadata": {},
   "outputs": [],
   "source": [
    "df = df.dropna()"
   ]
  },
  {
   "cell_type": "code",
   "execution_count": 18,
   "metadata": {},
   "outputs": [
    {
     "data": {
      "text/plain": [
       "(10563, 9)"
      ]
     },
     "execution_count": 18,
     "metadata": {},
     "output_type": "execute_result"
    }
   ],
   "source": [
    "df.shape"
   ]
  },
  {
   "cell_type": "markdown",
   "metadata": {},
   "source": [
    "## Remove outliers"
   ]
  },
  {
   "cell_type": "code",
   "execution_count": 19,
   "metadata": {},
   "outputs": [
    {
     "data": {
      "text/html": [
       "<div>\n",
       "<style scoped>\n",
       "    .dataframe tbody tr th:only-of-type {\n",
       "        vertical-align: middle;\n",
       "    }\n",
       "\n",
       "    .dataframe tbody tr th {\n",
       "        vertical-align: top;\n",
       "    }\n",
       "\n",
       "    .dataframe thead th {\n",
       "        text-align: right;\n",
       "    }\n",
       "</style>\n",
       "<table border=\"1\" class=\"dataframe\">\n",
       "  <thead>\n",
       "    <tr style=\"text-align: right;\">\n",
       "      <th></th>\n",
       "      <th>length_3d</th>\n",
       "      <th>max_elevation</th>\n",
       "      <th>uphill</th>\n",
       "      <th>moving_time</th>\n",
       "      <th>min_elevation</th>\n",
       "      <th>downhill</th>\n",
       "      <th>length_2d</th>\n",
       "      <th>dif_num</th>\n",
       "    </tr>\n",
       "  </thead>\n",
       "  <tbody>\n",
       "    <tr>\n",
       "      <th>count</th>\n",
       "      <td>1.056300e+04</td>\n",
       "      <td>10563.000000</td>\n",
       "      <td>10563.000000</td>\n",
       "      <td>10563.000000</td>\n",
       "      <td>10563.000000</td>\n",
       "      <td>10563.000000</td>\n",
       "      <td>1.056300e+04</td>\n",
       "      <td>10563.000000</td>\n",
       "    </tr>\n",
       "    <tr>\n",
       "      <th>mean</th>\n",
       "      <td>2.025524e+04</td>\n",
       "      <td>1934.281708</td>\n",
       "      <td>1082.936698</td>\n",
       "      <td>14671.965351</td>\n",
       "      <td>1003.331150</td>\n",
       "      <td>1010.480545</td>\n",
       "      <td>2.025524e+04</td>\n",
       "      <td>3.415810</td>\n",
       "    </tr>\n",
       "    <tr>\n",
       "      <th>std</th>\n",
       "      <td>4.387800e+05</td>\n",
       "      <td>784.968353</td>\n",
       "      <td>1073.528688</td>\n",
       "      <td>11295.319195</td>\n",
       "      <td>813.001041</td>\n",
       "      <td>1040.869888</td>\n",
       "      <td>4.387800e+05</td>\n",
       "      <td>1.154353</td>\n",
       "    </tr>\n",
       "    <tr>\n",
       "      <th>min</th>\n",
       "      <td>3.038565e+00</td>\n",
       "      <td>-1.000000</td>\n",
       "      <td>0.000000</td>\n",
       "      <td>0.000000</td>\n",
       "      <td>-32768.000000</td>\n",
       "      <td>0.000000</td>\n",
       "      <td>3.038565e+00</td>\n",
       "      <td>1.500000</td>\n",
       "    </tr>\n",
       "    <tr>\n",
       "      <th>25%</th>\n",
       "      <td>8.924436e+03</td>\n",
       "      <td>1382.275000</td>\n",
       "      <td>626.620892</td>\n",
       "      <td>8797.000000</td>\n",
       "      <td>560.020000</td>\n",
       "      <td>536.042000</td>\n",
       "      <td>8.924436e+03</td>\n",
       "      <td>2.500000</td>\n",
       "    </tr>\n",
       "    <tr>\n",
       "      <th>50%</th>\n",
       "      <td>1.242316e+04</td>\n",
       "      <td>1986.700000</td>\n",
       "      <td>980.800000</td>\n",
       "      <td>14251.000000</td>\n",
       "      <td>960.090000</td>\n",
       "      <td>927.190000</td>\n",
       "      <td>1.242316e+04</td>\n",
       "      <td>3.500000</td>\n",
       "    </tr>\n",
       "    <tr>\n",
       "      <th>75%</th>\n",
       "      <td>1.683374e+04</td>\n",
       "      <td>2498.455848</td>\n",
       "      <td>1368.169000</td>\n",
       "      <td>19291.000000</td>\n",
       "      <td>1389.485000</td>\n",
       "      <td>1338.298408</td>\n",
       "      <td>1.683374e+04</td>\n",
       "      <td>3.800000</td>\n",
       "    </tr>\n",
       "    <tr>\n",
       "      <th>max</th>\n",
       "      <td>3.189180e+07</td>\n",
       "      <td>5633.462891</td>\n",
       "      <td>35398.006781</td>\n",
       "      <td>189380.000000</td>\n",
       "      <td>4180.000000</td>\n",
       "      <td>52379.200000</td>\n",
       "      <td>3.189180e+07</td>\n",
       "      <td>6.800000</td>\n",
       "    </tr>\n",
       "  </tbody>\n",
       "</table>\n",
       "</div>"
      ],
      "text/plain": [
       "          length_3d  max_elevation        uphill    moving_time  \\\n",
       "count  1.056300e+04   10563.000000  10563.000000   10563.000000   \n",
       "mean   2.025524e+04    1934.281708   1082.936698   14671.965351   \n",
       "std    4.387800e+05     784.968353   1073.528688   11295.319195   \n",
       "min    3.038565e+00      -1.000000      0.000000       0.000000   \n",
       "25%    8.924436e+03    1382.275000    626.620892    8797.000000   \n",
       "50%    1.242316e+04    1986.700000    980.800000   14251.000000   \n",
       "75%    1.683374e+04    2498.455848   1368.169000   19291.000000   \n",
       "max    3.189180e+07    5633.462891  35398.006781  189380.000000   \n",
       "\n",
       "       min_elevation      downhill     length_2d       dif_num  \n",
       "count   10563.000000  10563.000000  1.056300e+04  10563.000000  \n",
       "mean     1003.331150   1010.480545  2.025524e+04      3.415810  \n",
       "std       813.001041   1040.869888  4.387800e+05      1.154353  \n",
       "min    -32768.000000      0.000000  3.038565e+00      1.500000  \n",
       "25%       560.020000    536.042000  8.924436e+03      2.500000  \n",
       "50%       960.090000    927.190000  1.242316e+04      3.500000  \n",
       "75%      1389.485000   1338.298408  1.683374e+04      3.800000  \n",
       "max      4180.000000  52379.200000  3.189180e+07      6.800000  "
      ]
     },
     "execution_count": 19,
     "metadata": {},
     "output_type": "execute_result"
    }
   ],
   "source": [
    "df.describe()"
   ]
  },
  {
   "cell_type": "markdown",
   "metadata": {},
   "source": [
    "There are some suspicious values here. For example, there are still entries with a moving time of 0 seconds or negative max and min elevations. "
   ]
  },
  {
   "cell_type": "markdown",
   "metadata": {},
   "source": [
    "### Removing routes with very short distances\n",
    "Remove any routes less than 500m."
   ]
  },
  {
   "cell_type": "code",
   "execution_count": 20,
   "metadata": {},
   "outputs": [],
   "source": [
    "df = df[df[\"length_3d\"] >= 500]"
   ]
  },
  {
   "cell_type": "markdown",
   "metadata": {},
   "source": [
    "### Remove entries without a moving time\n",
    "\n",
    "If we look at the entries with the shortest times we see that some of these are unfeasible (or are not possible on foot). For example, entry 673 here which has a distance of over 25km but was walked in 5 seconds... "
   ]
  },
  {
   "cell_type": "code",
   "execution_count": 21,
   "metadata": {},
   "outputs": [
    {
     "data": {
      "text/html": [
       "<div>\n",
       "<style scoped>\n",
       "    .dataframe tbody tr th:only-of-type {\n",
       "        vertical-align: middle;\n",
       "    }\n",
       "\n",
       "    .dataframe tbody tr th {\n",
       "        vertical-align: top;\n",
       "    }\n",
       "\n",
       "    .dataframe thead th {\n",
       "        text-align: right;\n",
       "    }\n",
       "</style>\n",
       "<table border=\"1\" class=\"dataframe\">\n",
       "  <thead>\n",
       "    <tr style=\"text-align: right;\">\n",
       "      <th></th>\n",
       "      <th>length_3d</th>\n",
       "      <th>user</th>\n",
       "      <th>max_elevation</th>\n",
       "      <th>uphill</th>\n",
       "      <th>moving_time</th>\n",
       "      <th>min_elevation</th>\n",
       "      <th>downhill</th>\n",
       "      <th>length_2d</th>\n",
       "      <th>dif_num</th>\n",
       "    </tr>\n",
       "  </thead>\n",
       "  <tbody>\n",
       "    <tr>\n",
       "      <th>7</th>\n",
       "      <td>8389.371263</td>\n",
       "      <td>kopfsalat</td>\n",
       "      <td>723.400000</td>\n",
       "      <td>402.480000</td>\n",
       "      <td>0.0</td>\n",
       "      <td>417.700000</td>\n",
       "      <td>393.380000</td>\n",
       "      <td>8389.371263</td>\n",
       "      <td>2.5</td>\n",
       "    </tr>\n",
       "    <tr>\n",
       "      <th>8</th>\n",
       "      <td>11481.637990</td>\n",
       "      <td>Mo6451</td>\n",
       "      <td>1061.999987</td>\n",
       "      <td>366.213306</td>\n",
       "      <td>0.0</td>\n",
       "      <td>750.500003</td>\n",
       "      <td>365.513308</td>\n",
       "      <td>11481.637990</td>\n",
       "      <td>2.5</td>\n",
       "    </tr>\n",
       "    <tr>\n",
       "      <th>14</th>\n",
       "      <td>15515.559314</td>\n",
       "      <td>Felix</td>\n",
       "      <td>1649.600000</td>\n",
       "      <td>917.811089</td>\n",
       "      <td>0.0</td>\n",
       "      <td>823.300002</td>\n",
       "      <td>868.411089</td>\n",
       "      <td>15515.559314</td>\n",
       "      <td>3.5</td>\n",
       "    </tr>\n",
       "    <tr>\n",
       "      <th>42</th>\n",
       "      <td>11694.677397</td>\n",
       "      <td>Mo6451</td>\n",
       "      <td>462.900000</td>\n",
       "      <td>31.440000</td>\n",
       "      <td>0.0</td>\n",
       "      <td>429.850000</td>\n",
       "      <td>31.380000</td>\n",
       "      <td>11694.677397</td>\n",
       "      <td>1.5</td>\n",
       "    </tr>\n",
       "    <tr>\n",
       "      <th>55</th>\n",
       "      <td>14010.842208</td>\n",
       "      <td>Felix</td>\n",
       "      <td>1495.200000</td>\n",
       "      <td>1120.521531</td>\n",
       "      <td>0.0</td>\n",
       "      <td>425.700000</td>\n",
       "      <td>746.821531</td>\n",
       "      <td>14010.842208</td>\n",
       "      <td>2.5</td>\n",
       "    </tr>\n",
       "  </tbody>\n",
       "</table>\n",
       "</div>"
      ],
      "text/plain": [
       "       length_3d       user  max_elevation       uphill  moving_time  \\\n",
       "7    8389.371263  kopfsalat     723.400000   402.480000          0.0   \n",
       "8   11481.637990     Mo6451    1061.999987   366.213306          0.0   \n",
       "14  15515.559314      Felix    1649.600000   917.811089          0.0   \n",
       "42  11694.677397     Mo6451     462.900000    31.440000          0.0   \n",
       "55  14010.842208      Felix    1495.200000  1120.521531          0.0   \n",
       "\n",
       "    min_elevation    downhill     length_2d  dif_num  \n",
       "7      417.700000  393.380000   8389.371263      2.5  \n",
       "8      750.500003  365.513308  11481.637990      2.5  \n",
       "14     823.300002  868.411089  15515.559314      3.5  \n",
       "42     429.850000   31.380000  11694.677397      1.5  \n",
       "55     425.700000  746.821531  14010.842208      2.5  "
      ]
     },
     "execution_count": 21,
     "metadata": {},
     "output_type": "execute_result"
    }
   ],
   "source": [
    "df[df[\"moving_time\"]<360][:5]"
   ]
  },
  {
   "cell_type": "markdown",
   "metadata": {},
   "source": [
    "We can remove these entries with very short moving times but we can also create a new column representing average speed which will help eliminate any entries which are unlikely to have been walked but are either mistakes or potentially driving routes. "
   ]
  },
  {
   "cell_type": "code",
   "execution_count": 22,
   "metadata": {},
   "outputs": [],
   "source": [
    "df = df[df[\"moving_time\"]>600]"
   ]
  },
  {
   "cell_type": "markdown",
   "metadata": {},
   "source": [
    "### Adding average speed parameter"
   ]
  },
  {
   "cell_type": "code",
   "execution_count": 23,
   "metadata": {},
   "outputs": [],
   "source": [
    "m_per_second =  df[\"length_3d\"]/df[\"moving_time\"]  \n",
    "df[\"avg_speed_kmh\"] = m_per_second*3600/1000 #km/h"
   ]
  },
  {
   "cell_type": "code",
   "execution_count": 24,
   "metadata": {},
   "outputs": [
    {
     "data": {
      "text/plain": [
       "count    9675.000000\n",
       "mean        5.296649\n",
       "std       125.215606\n",
       "min         1.607421\n",
       "25%         2.639528\n",
       "50%         2.967702\n",
       "75%         3.457551\n",
       "max      8710.963306\n",
       "Name: avg_speed_kmh, dtype: float64"
      ]
     },
     "execution_count": 24,
     "metadata": {},
     "output_type": "execute_result"
    }
   ],
   "source": [
    "df[\"avg_speed_kmh\"].describe()"
   ]
  },
  {
   "cell_type": "markdown",
   "metadata": {},
   "source": [
    "The average speed of over 18,000 km/h must be wrong! Let's check out the fastest entries. Given that the average running speed is of the order 10km/h, we restrict our entries to be less than this. "
   ]
  },
  {
   "cell_type": "code",
   "execution_count": 25,
   "metadata": {},
   "outputs": [],
   "source": [
    "df = df[df[\"avg_speed_kmh\"] < 10]"
   ]
  },
  {
   "cell_type": "markdown",
   "metadata": {},
   "source": [
    "### Remove anomalous elevations\n",
    "We still have entries with very low elevations. While can get land below sea level, 32km below it is not possible for out hikes! Let's remove these and set a lower limit of -50m."
   ]
  },
  {
   "cell_type": "code",
   "execution_count": 26,
   "metadata": {},
   "outputs": [],
   "source": [
    "df = df[df[\"min_elevation\"] >-50]\n",
    "df = df[df[\"max_elevation\"] >0]"
   ]
  },
  {
   "cell_type": "markdown",
   "metadata": {},
   "source": [
    "A final quick look at the parameters now looks more reasonable:"
   ]
  },
  {
   "cell_type": "code",
   "execution_count": 27,
   "metadata": {},
   "outputs": [
    {
     "data": {
      "text/html": [
       "<div>\n",
       "<style scoped>\n",
       "    .dataframe tbody tr th:only-of-type {\n",
       "        vertical-align: middle;\n",
       "    }\n",
       "\n",
       "    .dataframe tbody tr th {\n",
       "        vertical-align: top;\n",
       "    }\n",
       "\n",
       "    .dataframe thead th {\n",
       "        text-align: right;\n",
       "    }\n",
       "</style>\n",
       "<table border=\"1\" class=\"dataframe\">\n",
       "  <thead>\n",
       "    <tr style=\"text-align: right;\">\n",
       "      <th></th>\n",
       "      <th>length_3d</th>\n",
       "      <th>max_elevation</th>\n",
       "      <th>uphill</th>\n",
       "      <th>moving_time</th>\n",
       "      <th>min_elevation</th>\n",
       "      <th>downhill</th>\n",
       "      <th>length_2d</th>\n",
       "      <th>dif_num</th>\n",
       "      <th>avg_speed_kmh</th>\n",
       "    </tr>\n",
       "  </thead>\n",
       "  <tbody>\n",
       "    <tr>\n",
       "      <th>count</th>\n",
       "      <td>9420.000000</td>\n",
       "      <td>9420.000000</td>\n",
       "      <td>9420.000000</td>\n",
       "      <td>9420.000000</td>\n",
       "      <td>9420.000000</td>\n",
       "      <td>9420.000000</td>\n",
       "      <td>9420.000000</td>\n",
       "      <td>9420.000000</td>\n",
       "      <td>9420.000000</td>\n",
       "    </tr>\n",
       "    <tr>\n",
       "      <th>mean</th>\n",
       "      <td>14139.609555</td>\n",
       "      <td>1971.327386</td>\n",
       "      <td>1105.647950</td>\n",
       "      <td>16236.224628</td>\n",
       "      <td>1023.121531</td>\n",
       "      <td>1044.601957</td>\n",
       "      <td>14139.609555</td>\n",
       "      <td>3.461327</td>\n",
       "      <td>3.228177</td>\n",
       "    </tr>\n",
       "    <tr>\n",
       "      <th>std</th>\n",
       "      <td>10536.323362</td>\n",
       "      <td>768.427532</td>\n",
       "      <td>938.605409</td>\n",
       "      <td>10724.345503</td>\n",
       "      <td>574.194013</td>\n",
       "      <td>1064.692347</td>\n",
       "      <td>10536.323362</td>\n",
       "      <td>1.153834</td>\n",
       "      <td>1.136423</td>\n",
       "    </tr>\n",
       "    <tr>\n",
       "      <th>min</th>\n",
       "      <td>651.600628</td>\n",
       "      <td>5.190000</td>\n",
       "      <td>0.000000</td>\n",
       "      <td>681.000000</td>\n",
       "      <td>-49.420000</td>\n",
       "      <td>0.000000</td>\n",
       "      <td>651.600628</td>\n",
       "      <td>1.500000</td>\n",
       "      <td>1.607421</td>\n",
       "    </tr>\n",
       "    <tr>\n",
       "      <th>25%</th>\n",
       "      <td>9066.954914</td>\n",
       "      <td>1438.895000</td>\n",
       "      <td>664.786500</td>\n",
       "      <td>10726.000000</td>\n",
       "      <td>573.560000</td>\n",
       "      <td>583.782250</td>\n",
       "      <td>9066.954914</td>\n",
       "      <td>2.500000</td>\n",
       "      <td>2.633136</td>\n",
       "    </tr>\n",
       "    <tr>\n",
       "      <th>50%</th>\n",
       "      <td>12573.585526</td>\n",
       "      <td>2016.069998</td>\n",
       "      <td>1019.335000</td>\n",
       "      <td>15219.000000</td>\n",
       "      <td>974.655000</td>\n",
       "      <td>965.806000</td>\n",
       "      <td>12573.585526</td>\n",
       "      <td>3.500000</td>\n",
       "      <td>2.949956</td>\n",
       "    </tr>\n",
       "    <tr>\n",
       "      <th>75%</th>\n",
       "      <td>16955.282533</td>\n",
       "      <td>2512.060000</td>\n",
       "      <td>1394.409500</td>\n",
       "      <td>19975.000000</td>\n",
       "      <td>1400.960002</td>\n",
       "      <td>1368.089000</td>\n",
       "      <td>16955.282533</td>\n",
       "      <td>4.200000</td>\n",
       "      <td>3.404393</td>\n",
       "    </tr>\n",
       "    <tr>\n",
       "      <th>max</th>\n",
       "      <td>226907.816848</td>\n",
       "      <td>5633.462891</td>\n",
       "      <td>29286.167000</td>\n",
       "      <td>189380.000000</td>\n",
       "      <td>4180.000000</td>\n",
       "      <td>52379.200000</td>\n",
       "      <td>226907.816848</td>\n",
       "      <td>6.800000</td>\n",
       "      <td>9.994365</td>\n",
       "    </tr>\n",
       "  </tbody>\n",
       "</table>\n",
       "</div>"
      ],
      "text/plain": [
       "           length_3d  max_elevation        uphill    moving_time  \\\n",
       "count    9420.000000    9420.000000   9420.000000    9420.000000   \n",
       "mean    14139.609555    1971.327386   1105.647950   16236.224628   \n",
       "std     10536.323362     768.427532    938.605409   10724.345503   \n",
       "min       651.600628       5.190000      0.000000     681.000000   \n",
       "25%      9066.954914    1438.895000    664.786500   10726.000000   \n",
       "50%     12573.585526    2016.069998   1019.335000   15219.000000   \n",
       "75%     16955.282533    2512.060000   1394.409500   19975.000000   \n",
       "max    226907.816848    5633.462891  29286.167000  189380.000000   \n",
       "\n",
       "       min_elevation      downhill      length_2d      dif_num  avg_speed_kmh  \n",
       "count    9420.000000   9420.000000    9420.000000  9420.000000    9420.000000  \n",
       "mean     1023.121531   1044.601957   14139.609555     3.461327       3.228177  \n",
       "std       574.194013   1064.692347   10536.323362     1.153834       1.136423  \n",
       "min       -49.420000      0.000000     651.600628     1.500000       1.607421  \n",
       "25%       573.560000    583.782250    9066.954914     2.500000       2.633136  \n",
       "50%       974.655000    965.806000   12573.585526     3.500000       2.949956  \n",
       "75%      1400.960002   1368.089000   16955.282533     4.200000       3.404393  \n",
       "max      4180.000000  52379.200000  226907.816848     6.800000       9.994365  "
      ]
     },
     "execution_count": 27,
     "metadata": {},
     "output_type": "execute_result"
    }
   ],
   "source": [
    "df.describe()"
   ]
  },
  {
   "cell_type": "markdown",
   "metadata": {},
   "source": [
    "# Split the data<a name=\"sample-split\"></a>\n",
    "\n",
    "Set the moving time to be our target, Y, and leave the other parameters as input, X. \n",
    "\n",
    "We also need to drop the average speed which we used to look for anomalous results as this is directly calculated from our target, \"moving_time\"!"
   ]
  },
  {
   "cell_type": "code",
   "execution_count": 28,
   "metadata": {},
   "outputs": [],
   "source": [
    "Y = df[\"moving_time\"]\n",
    "X = df.drop([\"moving_time\",\"avg_speed_kmh\"],axis=1)"
   ]
  },
  {
   "cell_type": "markdown",
   "metadata": {},
   "source": [
    "Split the dataset into a training sample, cross-validation sample and a final test sample with ratio 60:20:20"
   ]
  },
  {
   "cell_type": "code",
   "execution_count": 29,
   "metadata": {},
   "outputs": [
    {
     "name": "stdout",
     "output_type": "stream",
     "text": [
      "The shape of the training set (input) is: (5652, 8)\n",
      "The shape of the training set (target) is: (5652,)\n",
      "\n",
      "The shape of the cross validation set (input) is: (1884, 8)\n",
      "The shape of the cross validation set (target) is: (1884,)\n",
      "\n",
      "The shape of the test set (input) is: (1884, 8)\n",
      "The shape of the test set (target) is: (1884,)\n"
     ]
    }
   ],
   "source": [
    "X_train, X_, Y_train, Y_ = train_test_split(X, Y, test_size=0.40, random_state=RANDOM_STATE)\n",
    "X_cv, X_test, Y_cv, Y_test = train_test_split(X_, Y_, test_size=0.50, random_state=RANDOM_STATE)\n",
    "del X_, Y_\n",
    "\n",
    "print(f\"The shape of the training set (input) is: {X_train.shape}\")\n",
    "print(f\"The shape of the training set (target) is: {Y_train.shape}\\n\")\n",
    "print(f\"The shape of the cross validation set (input) is: {X_cv.shape}\")\n",
    "print(f\"The shape of the cross validation set (target) is: {Y_cv.shape}\\n\")\n",
    "print(f\"The shape of the test set (input) is: {X_test.shape}\")\n",
    "print(f\"The shape of the test set (target) is: {Y_test.shape}\")"
   ]
  },
  {
   "cell_type": "code",
   "execution_count": 30,
   "metadata": {},
   "outputs": [],
   "source": [
    "X_train, Y_train  = X_train.reset_index(drop=True), Y_train.reset_index(drop=True)\n",
    "X_cv, Y_cv = X_cv.reset_index(drop=True), Y_cv.reset_index(drop=True)\n",
    "X_test, Y_test = X_test.reset_index(drop=True), Y_test.reset_index(drop=True)"
   ]
  },
  {
   "cell_type": "markdown",
   "metadata": {},
   "source": [
    "## Pre-processing Features\n",
    "\n",
    "User column contains categorical data so we need to transform this into a more usable form, in this case we use one-hot encoding:"
   ]
  },
  {
   "cell_type": "code",
   "execution_count": 31,
   "metadata": {},
   "outputs": [],
   "source": [
    "numerical_features = X_train.drop([\"user\"],axis=1).columns\n",
    "\n",
    "#Use OneHotEncoder rather than pd.get_dummies as it can handle the train/test datasets having different users\n",
    "ohe = OneHotEncoder(handle_unknown=\"ignore\", sparse=False)\n",
    "\n",
    "#create array of one-hot encoded columns\n",
    "user_encoded_arr = ohe.fit_transform(X_train[[\"user\"]])\n",
    "\n",
    "# Creating a DataFrame from the encoded data\n",
    "user_encoded_df = pd.DataFrame(user_encoded_arr, columns=ohe.get_feature_names([\"user\"]))"
   ]
  },
  {
   "cell_type": "markdown",
   "metadata": {},
   "source": [
    "### Feature Scaling\n",
    "Next we need to scale the data so that all the parameters have a similar spread. Note that we do this after the splitting to avoid data leakage. If we scaled it first, the test data would contribute to the calculated mean, standard deviation etc and therefore the model is being provided with some information of the test set leading to overly optimistic results. "
   ]
  },
  {
   "cell_type": "code",
   "execution_count": 32,
   "metadata": {},
   "outputs": [],
   "source": [
    "scaler = StandardScaler()\n",
    "X_scaled_numerical = X_train[numerical_features].copy()\n",
    "X_scaled_numerical[numerical_features] = scaler.fit_transform(X_train[numerical_features])"
   ]
  },
  {
   "cell_type": "markdown",
   "metadata": {},
   "source": [
    "Check new properties of the numerical parameters and all looks ok. The data is centred around 0 and have standard deviations of 1. "
   ]
  },
  {
   "cell_type": "code",
   "execution_count": 33,
   "metadata": {},
   "outputs": [
    {
     "data": {
      "text/html": [
       "<div>\n",
       "<style scoped>\n",
       "    .dataframe tbody tr th:only-of-type {\n",
       "        vertical-align: middle;\n",
       "    }\n",
       "\n",
       "    .dataframe tbody tr th {\n",
       "        vertical-align: top;\n",
       "    }\n",
       "\n",
       "    .dataframe thead th {\n",
       "        text-align: right;\n",
       "    }\n",
       "</style>\n",
       "<table border=\"1\" class=\"dataframe\">\n",
       "  <thead>\n",
       "    <tr style=\"text-align: right;\">\n",
       "      <th></th>\n",
       "      <th>length_3d</th>\n",
       "      <th>max_elevation</th>\n",
       "      <th>uphill</th>\n",
       "      <th>min_elevation</th>\n",
       "      <th>downhill</th>\n",
       "      <th>length_2d</th>\n",
       "      <th>dif_num</th>\n",
       "    </tr>\n",
       "  </thead>\n",
       "  <tbody>\n",
       "    <tr>\n",
       "      <th>count</th>\n",
       "      <td>5.652000e+03</td>\n",
       "      <td>5.652000e+03</td>\n",
       "      <td>5.652000e+03</td>\n",
       "      <td>5.652000e+03</td>\n",
       "      <td>5.652000e+03</td>\n",
       "      <td>5.652000e+03</td>\n",
       "      <td>5.652000e+03</td>\n",
       "    </tr>\n",
       "    <tr>\n",
       "      <th>mean</th>\n",
       "      <td>1.338868e-16</td>\n",
       "      <td>-1.068580e-17</td>\n",
       "      <td>1.282296e-16</td>\n",
       "      <td>2.376019e-16</td>\n",
       "      <td>1.257153e-17</td>\n",
       "      <td>1.338868e-16</td>\n",
       "      <td>1.024579e-16</td>\n",
       "    </tr>\n",
       "    <tr>\n",
       "      <th>std</th>\n",
       "      <td>1.000088e+00</td>\n",
       "      <td>1.000088e+00</td>\n",
       "      <td>1.000088e+00</td>\n",
       "      <td>1.000088e+00</td>\n",
       "      <td>1.000088e+00</td>\n",
       "      <td>1.000088e+00</td>\n",
       "      <td>1.000088e+00</td>\n",
       "    </tr>\n",
       "    <tr>\n",
       "      <th>min</th>\n",
       "      <td>-1.220324e+00</td>\n",
       "      <td>-2.553882e+00</td>\n",
       "      <td>-1.149221e+00</td>\n",
       "      <td>-1.875965e+00</td>\n",
       "      <td>-9.063935e-01</td>\n",
       "      <td>-1.220324e+00</td>\n",
       "      <td>-1.688742e+00</td>\n",
       "    </tr>\n",
       "    <tr>\n",
       "      <th>25%</th>\n",
       "      <td>-4.727761e-01</td>\n",
       "      <td>-6.902778e-01</td>\n",
       "      <td>-4.601760e-01</td>\n",
       "      <td>-7.802331e-01</td>\n",
       "      <td>-4.046069e-01</td>\n",
       "      <td>-4.727761e-01</td>\n",
       "      <td>-8.282169e-01</td>\n",
       "    </tr>\n",
       "    <tr>\n",
       "      <th>50%</th>\n",
       "      <td>-1.523687e-01</td>\n",
       "      <td>5.266797e-02</td>\n",
       "      <td>-9.073734e-02</td>\n",
       "      <td>-8.877093e-02</td>\n",
       "      <td>-7.523606e-02</td>\n",
       "      <td>-1.523687e-01</td>\n",
       "      <td>3.230774e-02</td>\n",
       "    </tr>\n",
       "    <tr>\n",
       "      <th>75%</th>\n",
       "      <td>2.490295e-01</td>\n",
       "      <td>7.040517e-01</td>\n",
       "      <td>2.995719e-01</td>\n",
       "      <td>6.752499e-01</td>\n",
       "      <td>2.812391e-01</td>\n",
       "      <td>2.490295e-01</td>\n",
       "      <td>6.346750e-01</td>\n",
       "    </tr>\n",
       "    <tr>\n",
       "      <th>max</th>\n",
       "      <td>1.915864e+01</td>\n",
       "      <td>4.484739e+00</td>\n",
       "      <td>2.922855e+01</td>\n",
       "      <td>5.506392e+00</td>\n",
       "      <td>4.454324e+01</td>\n",
       "      <td>1.915864e+01</td>\n",
       "      <td>2.872039e+00</td>\n",
       "    </tr>\n",
       "  </tbody>\n",
       "</table>\n",
       "</div>"
      ],
      "text/plain": [
       "          length_3d  max_elevation        uphill  min_elevation      downhill  \\\n",
       "count  5.652000e+03   5.652000e+03  5.652000e+03   5.652000e+03  5.652000e+03   \n",
       "mean   1.338868e-16  -1.068580e-17  1.282296e-16   2.376019e-16  1.257153e-17   \n",
       "std    1.000088e+00   1.000088e+00  1.000088e+00   1.000088e+00  1.000088e+00   \n",
       "min   -1.220324e+00  -2.553882e+00 -1.149221e+00  -1.875965e+00 -9.063935e-01   \n",
       "25%   -4.727761e-01  -6.902778e-01 -4.601760e-01  -7.802331e-01 -4.046069e-01   \n",
       "50%   -1.523687e-01   5.266797e-02 -9.073734e-02  -8.877093e-02 -7.523606e-02   \n",
       "75%    2.490295e-01   7.040517e-01  2.995719e-01   6.752499e-01  2.812391e-01   \n",
       "max    1.915864e+01   4.484739e+00  2.922855e+01   5.506392e+00  4.454324e+01   \n",
       "\n",
       "          length_2d       dif_num  \n",
       "count  5.652000e+03  5.652000e+03  \n",
       "mean   1.338868e-16  1.024579e-16  \n",
       "std    1.000088e+00  1.000088e+00  \n",
       "min   -1.220324e+00 -1.688742e+00  \n",
       "25%   -4.727761e-01 -8.282169e-01  \n",
       "50%   -1.523687e-01  3.230774e-02  \n",
       "75%    2.490295e-01  6.346750e-01  \n",
       "max    1.915864e+01  2.872039e+00  "
      ]
     },
     "execution_count": 33,
     "metadata": {},
     "output_type": "execute_result"
    }
   ],
   "source": [
    "X_scaled_numerical.describe()"
   ]
  },
  {
   "cell_type": "markdown",
   "metadata": {},
   "source": [
    "Recombine the scaled numerical data and the one-hot encoded data"
   ]
  },
  {
   "cell_type": "code",
   "execution_count": 34,
   "metadata": {},
   "outputs": [],
   "source": [
    "#one_hot_encoded_features = [col for col in X_train.columns if col not in numerical_features]\n",
    "X_scaled = pd.concat([X_scaled_numerical,user_encoded_df], axis=1)"
   ]
  },
  {
   "cell_type": "code",
   "execution_count": 35,
   "metadata": {},
   "outputs": [
    {
     "name": "stdout",
     "output_type": "stream",
     "text": [
      "(5652, 7)\n",
      "(5652, 295)\n",
      "(5652, 302)\n"
     ]
    }
   ],
   "source": [
    "print(np.shape(X_scaled_numerical))\n",
    "print(np.shape(user_encoded_df))\n",
    "print(X_scaled.shape)"
   ]
  },
  {
   "cell_type": "code",
   "execution_count": 36,
   "metadata": {},
   "outputs": [
    {
     "data": {
      "text/html": [
       "<div>\n",
       "<style scoped>\n",
       "    .dataframe tbody tr th:only-of-type {\n",
       "        vertical-align: middle;\n",
       "    }\n",
       "\n",
       "    .dataframe tbody tr th {\n",
       "        vertical-align: top;\n",
       "    }\n",
       "\n",
       "    .dataframe thead th {\n",
       "        text-align: right;\n",
       "    }\n",
       "</style>\n",
       "<table border=\"1\" class=\"dataframe\">\n",
       "  <thead>\n",
       "    <tr style=\"text-align: right;\">\n",
       "      <th></th>\n",
       "      <th>length_3d</th>\n",
       "      <th>max_elevation</th>\n",
       "      <th>uphill</th>\n",
       "      <th>min_elevation</th>\n",
       "      <th>downhill</th>\n",
       "      <th>length_2d</th>\n",
       "      <th>dif_num</th>\n",
       "      <th>user_1Gehirner</th>\n",
       "      <th>user_360</th>\n",
       "      <th>user_3614m</th>\n",
       "      <th>...</th>\n",
       "      <th>user_veget</th>\n",
       "      <th>user_viciox</th>\n",
       "      <th>user_wasquewhat</th>\n",
       "      <th>user_wontolla</th>\n",
       "      <th>user_xaendi</th>\n",
       "      <th>user_xrs1959</th>\n",
       "      <th>user_zar</th>\n",
       "      <th>user_zasf</th>\n",
       "      <th>user_zen6363</th>\n",
       "      <th>user_أجنبي</th>\n",
       "    </tr>\n",
       "  </thead>\n",
       "  <tbody>\n",
       "    <tr>\n",
       "      <th>0</th>\n",
       "      <td>-0.236399</td>\n",
       "      <td>0.295757</td>\n",
       "      <td>-0.433063</td>\n",
       "      <td>0.860036</td>\n",
       "      <td>-0.349013</td>\n",
       "      <td>-0.236399</td>\n",
       "      <td>-0.828217</td>\n",
       "      <td>0.0</td>\n",
       "      <td>0.0</td>\n",
       "      <td>0.0</td>\n",
       "      <td>...</td>\n",
       "      <td>0.0</td>\n",
       "      <td>0.0</td>\n",
       "      <td>0.0</td>\n",
       "      <td>0.0</td>\n",
       "      <td>0.0</td>\n",
       "      <td>0.0</td>\n",
       "      <td>0.0</td>\n",
       "      <td>0.0</td>\n",
       "      <td>0.0</td>\n",
       "      <td>0.0</td>\n",
       "    </tr>\n",
       "    <tr>\n",
       "      <th>1</th>\n",
       "      <td>-0.540386</td>\n",
       "      <td>0.023115</td>\n",
       "      <td>-0.274437</td>\n",
       "      <td>0.259574</td>\n",
       "      <td>-0.190177</td>\n",
       "      <td>-0.540386</td>\n",
       "      <td>1.150990</td>\n",
       "      <td>0.0</td>\n",
       "      <td>0.0</td>\n",
       "      <td>0.0</td>\n",
       "      <td>...</td>\n",
       "      <td>0.0</td>\n",
       "      <td>0.0</td>\n",
       "      <td>0.0</td>\n",
       "      <td>0.0</td>\n",
       "      <td>0.0</td>\n",
       "      <td>0.0</td>\n",
       "      <td>0.0</td>\n",
       "      <td>0.0</td>\n",
       "      <td>0.0</td>\n",
       "      <td>0.0</td>\n",
       "    </tr>\n",
       "    <tr>\n",
       "      <th>2</th>\n",
       "      <td>0.149744</td>\n",
       "      <td>0.075844</td>\n",
       "      <td>-0.378469</td>\n",
       "      <td>1.010217</td>\n",
       "      <td>-0.265399</td>\n",
       "      <td>0.149744</td>\n",
       "      <td>0.032308</td>\n",
       "      <td>0.0</td>\n",
       "      <td>0.0</td>\n",
       "      <td>0.0</td>\n",
       "      <td>...</td>\n",
       "      <td>0.0</td>\n",
       "      <td>0.0</td>\n",
       "      <td>0.0</td>\n",
       "      <td>0.0</td>\n",
       "      <td>0.0</td>\n",
       "      <td>0.0</td>\n",
       "      <td>0.0</td>\n",
       "      <td>0.0</td>\n",
       "      <td>0.0</td>\n",
       "      <td>0.0</td>\n",
       "    </tr>\n",
       "    <tr>\n",
       "      <th>3</th>\n",
       "      <td>-0.197651</td>\n",
       "      <td>1.538185</td>\n",
       "      <td>0.419800</td>\n",
       "      <td>1.069772</td>\n",
       "      <td>0.394450</td>\n",
       "      <td>-0.197651</td>\n",
       "      <td>0.290465</td>\n",
       "      <td>0.0</td>\n",
       "      <td>0.0</td>\n",
       "      <td>0.0</td>\n",
       "      <td>...</td>\n",
       "      <td>0.0</td>\n",
       "      <td>0.0</td>\n",
       "      <td>0.0</td>\n",
       "      <td>0.0</td>\n",
       "      <td>0.0</td>\n",
       "      <td>0.0</td>\n",
       "      <td>0.0</td>\n",
       "      <td>0.0</td>\n",
       "      <td>0.0</td>\n",
       "      <td>0.0</td>\n",
       "    </tr>\n",
       "    <tr>\n",
       "      <th>4</th>\n",
       "      <td>-0.780453</td>\n",
       "      <td>0.265047</td>\n",
       "      <td>-0.245660</td>\n",
       "      <td>0.456027</td>\n",
       "      <td>-0.135905</td>\n",
       "      <td>-0.780453</td>\n",
       "      <td>0.290465</td>\n",
       "      <td>0.0</td>\n",
       "      <td>0.0</td>\n",
       "      <td>0.0</td>\n",
       "      <td>...</td>\n",
       "      <td>0.0</td>\n",
       "      <td>1.0</td>\n",
       "      <td>0.0</td>\n",
       "      <td>0.0</td>\n",
       "      <td>0.0</td>\n",
       "      <td>0.0</td>\n",
       "      <td>0.0</td>\n",
       "      <td>0.0</td>\n",
       "      <td>0.0</td>\n",
       "      <td>0.0</td>\n",
       "    </tr>\n",
       "  </tbody>\n",
       "</table>\n",
       "<p>5 rows × 302 columns</p>\n",
       "</div>"
      ],
      "text/plain": [
       "   length_3d  max_elevation    uphill  min_elevation  downhill  length_2d  \\\n",
       "0  -0.236399       0.295757 -0.433063       0.860036 -0.349013  -0.236399   \n",
       "1  -0.540386       0.023115 -0.274437       0.259574 -0.190177  -0.540386   \n",
       "2   0.149744       0.075844 -0.378469       1.010217 -0.265399   0.149744   \n",
       "3  -0.197651       1.538185  0.419800       1.069772  0.394450  -0.197651   \n",
       "4  -0.780453       0.265047 -0.245660       0.456027 -0.135905  -0.780453   \n",
       "\n",
       "    dif_num  user_1Gehirner  user_360  user_3614m  ...  user_veget  \\\n",
       "0 -0.828217             0.0       0.0         0.0  ...         0.0   \n",
       "1  1.150990             0.0       0.0         0.0  ...         0.0   \n",
       "2  0.032308             0.0       0.0         0.0  ...         0.0   \n",
       "3  0.290465             0.0       0.0         0.0  ...         0.0   \n",
       "4  0.290465             0.0       0.0         0.0  ...         0.0   \n",
       "\n",
       "   user_viciox  user_wasquewhat  user_wontolla  user_xaendi  user_xrs1959  \\\n",
       "0          0.0              0.0            0.0          0.0           0.0   \n",
       "1          0.0              0.0            0.0          0.0           0.0   \n",
       "2          0.0              0.0            0.0          0.0           0.0   \n",
       "3          0.0              0.0            0.0          0.0           0.0   \n",
       "4          1.0              0.0            0.0          0.0           0.0   \n",
       "\n",
       "   user_zar  user_zasf  user_zen6363  user_أجنبي  \n",
       "0       0.0        0.0           0.0         0.0  \n",
       "1       0.0        0.0           0.0         0.0  \n",
       "2       0.0        0.0           0.0         0.0  \n",
       "3       0.0        0.0           0.0         0.0  \n",
       "4       0.0        0.0           0.0         0.0  \n",
       "\n",
       "[5 rows x 302 columns]"
      ]
     },
     "execution_count": 36,
     "metadata": {},
     "output_type": "execute_result"
    }
   ],
   "source": [
    "X_scaled.head()"
   ]
  },
  {
   "cell_type": "code",
   "execution_count": null,
   "metadata": {},
   "outputs": [],
   "source": []
  },
  {
   "cell_type": "markdown",
   "metadata": {},
   "source": [
    "Also need to process the cross validation and test data in the same way as we processed the training data. \n"
   ]
  },
  {
   "cell_type": "code",
   "execution_count": 37,
   "metadata": {},
   "outputs": [],
   "source": [
    "def transform_scale_data(data, encoder, scaler, cat_features, num_features):\n",
    "    \"\"\"\n",
    "    Code to transform cross-validation and test data acording to fit to training data\n",
    "    \n",
    "    Inputs\n",
    "    -------   \n",
    "    data (pandas.DataFrame):\n",
    "        data which needs to be transformed\n",
    "        \n",
    "    encoder(sklearn.preprocessing._encoders.OneHotEncoder): \n",
    "        One-hot encoder for the categorical data, already fit to the training data\n",
    "        \n",
    "    scaler (sklearn.preprocessing._data.StandardScaler):\n",
    "        Scaler for the numerical features that has been fit to the training data\n",
    "        \n",
    "    cat_features (list):\n",
    "        List of the column names for the categorical features\n",
    "        \n",
    "    num_features (list):\n",
    "        List of the column names for the numerical features\n",
    "        \n",
    "    Returns\n",
    "    -------\n",
    "    scaled_df (pandas.DataFrame):\n",
    "        dataframe containing all the input data with the categorical features one-hot encoded and the numerical \n",
    "        features scaled\n",
    "    \"\"\"\n",
    "    \n",
    "    # One-hot encode categorical features\n",
    "    cat_arr = encoder.transform(data[cat_features]) # .transform() not .fit_transform() as we want to use the values \n",
    "                                                    # which were fitted to the training data\n",
    "    cat_df = pd.DataFrame(cat_arr, columns=encoder.get_feature_names(cat_features))\n",
    "\n",
    "    # Scale numeric features\n",
    "    X_num = X_cv[num_features].copy()\n",
    "    X_num[num_features] = scaler.transform(data[num_features]) # .transform() only NOT .fit_transform() \n",
    "\n",
    "    # Combine all the features\n",
    "    scaled_df =  pd.concat([X_num, cat_df], axis=1)\n",
    "    \n",
    "    return scaled_df\n"
   ]
  },
  {
   "cell_type": "code",
   "execution_count": 38,
   "metadata": {},
   "outputs": [],
   "source": [
    "X_cv_scaled = transform_scale_data(X_cv, ohe, scaler, [\"user\"], numerical_features)\n",
    "X_test_scaled = transform_scale_data(X_test, ohe, scaler, [\"user\"], numerical_features)"
   ]
  },
  {
   "cell_type": "markdown",
   "metadata": {},
   "source": [
    "# Build the models <a name=\"model\"></a>\n",
    "\n",
    "## Decision Tree <a name=\"DecisionTree\"></a>\n",
    "\n",
    "We start with a simple model, Decision Tree. \n",
    "The DecisionTreeRegressor constructs a single decision tree from the training data, where each node in the tree represents a feature and each branch represents a decision based on that feature. The leaf nodes contain the predicted target values."
   ]
  },
  {
   "cell_type": "code",
   "execution_count": 97,
   "metadata": {},
   "outputs": [
    {
     "data": {
      "text/plain": [
       "DecisionTreeRegressor(min_samples_split=10, random_state=42)"
      ]
     },
     "execution_count": 97,
     "metadata": {},
     "output_type": "execute_result"
    }
   ],
   "source": [
    "# Initialize and fit the model to the training data\n",
    "from sklearn.tree import DecisionTreeRegressor\n",
    "model_DT = DecisionTreeRegressor(min_samples_split=10,random_state = RANDOM_STATE)\n",
    "model_DT.fit(X_scaled,Y_train) "
   ]
  },
  {
   "cell_type": "code",
   "execution_count": 98,
   "metadata": {},
   "outputs": [],
   "source": [
    "# Use the model to predict the target value, moving time\n",
    "predictions_train_DT = model_DT.predict(X_scaled)\n",
    "predictions_cv_DT = model_DT.predict(X_cv_scaled)"
   ]
  },
  {
   "cell_type": "code",
   "execution_count": 99,
   "metadata": {},
   "outputs": [
    {
     "data": {
      "image/png": "[encoded data removed]",
      "text/plain": [
       "<Figure size 432x288 with 1 Axes>"
      ]
     },
     "metadata": {
      "needs_background": "light"
     },
     "output_type": "display_data"
    }
   ],
   "source": [
    "sns.scatterplot(x=Y_train,y=predictions_train_DT,alpha=0.5, label=\"Training\")\n",
    "sns.scatterplot(x=Y_cv,y=predictions_cv_DT,alpha=0.3,label=\"CV\")\n",
    "plt.xlabel(\"True Moving Time (seconds)\")\n",
    "plt.ylabel(\"Predicted Moving Time (seconds)\")\n",
    "plt.legend()\n",
    "plt.title(\"Decision Tree Model\")\n",
    "plt.xlim(0,75000)\n",
    "plt.ylim(0,75000);"
   ]
  },
  {
   "cell_type": "markdown",
   "metadata": {},
   "source": [
    "Testing the model on unseen data (depicted in orange), we see that it does produce reasonably accurate predictions of the moving time. However, there are many improvements that can be made to ehance the predictive peformance. Firstly, we can try some other more sophisticated models."
   ]
  },
  {
   "cell_type": "markdown",
   "metadata": {},
   "source": [
    "## Random Forest Model\n",
    "\n",
    "While the Decision Tree model creates a single decision tree from the training set and uses this to predict the target value for new data, the random forest model is an ensemble method that consists of a collection of decision trees, known as a forest.\n",
    "\n",
    "Each decision tree in the forest is trained on a random subset of the training data (bootstrap sample) and a random subset of the features. The prediction is made by averaging the predictions of all the trees (for regression) in the forest. By aggregating the predictions of multiple trees,the random forest model tends to have better generalization performance and is more robust to overfitting compared to a single decision tree."
   ]
  },
  {
   "cell_type": "code",
   "execution_count": 115,
   "metadata": {},
   "outputs": [],
   "source": [
    "from sklearn.ensemble import RandomForestRegressor\n",
    "model_RF = RandomForestRegressor(min_samples_split = 10, random_state = RANDOM_STATE)\n",
    "model_RF.fit(X_scaled,Y_train) "
   ]
  },
  {
   "cell_type": "code",
   "execution_count": 101,
   "metadata": {
    "scrolled": true
   },
   "outputs": [
    {
     "data": {
      "image/png": "[encoded data removed]",
      "text/plain": [
       "<Figure size 432x288 with 1 Axes>"
      ]
     },
     "metadata": {
      "needs_background": "light"
     },
     "output_type": "display_data"
    }
   ],
   "source": [
    "predictions_train_RF = model_RF.predict(X_scaled)\n",
    "predictions_cv_RF = model_RF.predict(X_cv_scaled)\n",
    "sns.scatterplot(x=Y_train,y=predictions_train_RF,alpha=0.5, label=\"Training\")\n",
    "sns.scatterplot(x=Y_cv,y=predictions_cv_RF,alpha=0.3,label=\"CV\")\n",
    "plt.xlabel(\"True Moving Time (seconds)\")\n",
    "plt.ylabel(\"Predicted Moving Time (seconds)\")\n",
    "plt.legend()\n",
    "plt.title(\"Decision Tree Model\")\n",
    "plt.xlim(0,75000)\n",
    "plt.ylim(0,75000);"
   ]
  },
  {
   "cell_type": "code",
   "execution_count": 114,
   "metadata": {},
   "outputs": [
    {
     "name": "stdout",
     "output_type": "stream",
     "text": [
      "Decision Tree: \n",
      " Mean Squared Error = 11192471.92, Root Mean Squared Error = 3345.52\n",
      "Random Forest Tree: \n",
      " Mean Squared Error = 8239980.32, Root Mean Squared Error = 2870.54\n"
     ]
    }
   ],
   "source": [
    "from sklearn.metrics import mean_squared_error\n",
    "mse_DT = mean_squared_error(Y_cv, predictions_cv_DT)\n",
    "rmse_DT = mse_DT**.5\n",
    "mse_RF = mean_squared_error(Y_cv, predictions_cv_RF)\n",
    "rmse_RF = mse_RF**.5\n",
    "\n",
    "print(f\"Decision Tree: \\n Mean Squared Error = {mse_DT:.2f}, Root Mean Squared Error = {rmse_DT:.2f}\")\n",
    "print(f\"Random Forest: \\n Mean Squared Error = {mse_RF:.2f}, Root Mean Squared Error = {rmse_RF:.2f}\")"
   ]
  },
  {
   "cell_type": "markdown",
   "metadata": {},
   "source": [
    "The simple random forest model does yield improved results, characterized by the lower error, compared to those of the single decision tree. \n",
    "While we can tell whether one model is better than another from the comparison of the RMSE (small value represents results that are close to the true target), there is not a specific value range which represents a good or bad result as it is dependent on the range of the input data. Therefore, a potentially a better metric to evaluate the performance of a model is a normalised root mean squared error which takes into account the spread of the data. \n",
    "\n",
    "The normalized rmse used here is simply the rmse divided by the range between the minimum and maximum values. A value closer to zero represents a model which produce better fits to that data."
   ]
  },
  {
   "cell_type": "code",
   "execution_count": 134,
   "metadata": {},
   "outputs": [
    {
     "name": "stdout",
     "output_type": "stream",
     "text": [
      "0.02111387870839088 0.018116241558963454\n"
     ]
    }
   ],
   "source": [
    "#Normalized RMSE\n",
    "rmse_DT_norm = rmse_DT/(max(Y_test)-min(Y_test))\n",
    "rmse_RF_norm = rmse_RF/(max(Y_test)-min(Y_test))\n",
    "print(rmse_DT_norm,rmse_RF_norm)"
   ]
  },
  {
   "cell_type": "markdown",
   "metadata": {},
   "source": [
    "We see here that both of these model provide very good predictions with normalized rmse values very close to zero.\n",
    "\n",
    "Even so, we can still improve on the results. Firstly, let's try another, more sophisticated model. "
   ]
  },
  {
   "cell_type": "markdown",
   "metadata": {},
   "source": [
    "## XGBoost\n",
    "\n",
    "XGBoost, short for eXtreme Gradient Boosting, is an ensemble model akin to Random Forest. However, it employs a sequential approach, where the outcomes of one tree inform the refinement of the next. Unlike Random Forest, where each tree is trained on a random subset of the data with equal probability, XGBoost prioritizes training on the misclassified instances from preceding trees. This ensures that the model efficiently learns the nuances of the data, optimizing computing resources by focusing on uncovering new patterns rather than relearning established ones."
   ]
  },
  {
   "cell_type": "code",
   "execution_count": 201,
   "metadata": {},
   "outputs": [
    {
     "name": "stdout",
     "output_type": "stream",
     "text": [
      "[0]\tvalidation_0-rmse:14115.51172\n",
      "[1]\tvalidation_0-rmse:10278.58789\n",
      "[2]\tvalidation_0-rmse:7650.33936\n",
      "[3]\tvalidation_0-rmse:5890.98633\n",
      "[4]\tvalidation_0-rmse:4716.01855\n",
      "[5]\tvalidation_0-rmse:4060.79663\n",
      "[6]\tvalidation_0-rmse:3624.64258\n",
      "[7]\tvalidation_0-rmse:3377.30591\n",
      "[8]\tvalidation_0-rmse:3223.10522\n",
      "[9]\tvalidation_0-rmse:3121.07422\n",
      "[10]\tvalidation_0-rmse:3037.60596\n",
      "[11]\tvalidation_0-rmse:2991.60938\n",
      "[12]\tvalidation_0-rmse:2960.41650\n",
      "[13]\tvalidation_0-rmse:2942.82007\n",
      "[14]\tvalidation_0-rmse:2927.39526\n",
      "[15]\tvalidation_0-rmse:2912.72363\n",
      "[16]\tvalidation_0-rmse:2898.56812\n",
      "[17]\tvalidation_0-rmse:2884.11206\n",
      "[18]\tvalidation_0-rmse:2866.25293\n",
      "[19]\tvalidation_0-rmse:2862.42017\n",
      "[20]\tvalidation_0-rmse:2848.30054\n",
      "[21]\tvalidation_0-rmse:2835.46631\n",
      "[22]\tvalidation_0-rmse:2824.95752\n",
      "[23]\tvalidation_0-rmse:2820.19946\n",
      "[24]\tvalidation_0-rmse:2818.54224\n",
      "[25]\tvalidation_0-rmse:2805.80225\n",
      "[26]\tvalidation_0-rmse:2800.11035\n",
      "[27]\tvalidation_0-rmse:2792.08594\n",
      "[28]\tvalidation_0-rmse:2786.16797\n",
      "[29]\tvalidation_0-rmse:2782.45386\n",
      "[30]\tvalidation_0-rmse:2772.56323\n",
      "[31]\tvalidation_0-rmse:2766.17041\n",
      "[32]\tvalidation_0-rmse:2762.22412\n",
      "[33]\tvalidation_0-rmse:2760.86987\n",
      "[34]\tvalidation_0-rmse:2751.03833\n",
      "[35]\tvalidation_0-rmse:2750.61133\n",
      "[36]\tvalidation_0-rmse:2746.04394\n",
      "[37]\tvalidation_0-rmse:2739.39868\n",
      "[38]\tvalidation_0-rmse:2732.14502\n",
      "[39]\tvalidation_0-rmse:2727.44458\n",
      "[40]\tvalidation_0-rmse:2724.80566\n",
      "[41]\tvalidation_0-rmse:2723.04565\n",
      "[42]\tvalidation_0-rmse:2722.46655\n",
      "[43]\tvalidation_0-rmse:2719.85718\n",
      "[44]\tvalidation_0-rmse:2709.01587\n",
      "[45]\tvalidation_0-rmse:2709.34448\n",
      "[46]\tvalidation_0-rmse:2707.88550\n",
      "[47]\tvalidation_0-rmse:2701.63062\n",
      "[48]\tvalidation_0-rmse:2691.69189\n",
      "[49]\tvalidation_0-rmse:2696.68872\n",
      "[50]\tvalidation_0-rmse:2694.55884\n",
      "[51]\tvalidation_0-rmse:2694.37549\n",
      "[52]\tvalidation_0-rmse:2691.71655\n",
      "[53]\tvalidation_0-rmse:2689.44360\n",
      "[54]\tvalidation_0-rmse:2686.03809\n",
      "[55]\tvalidation_0-rmse:2681.28662\n",
      "[56]\tvalidation_0-rmse:2679.79199\n",
      "[57]\tvalidation_0-rmse:2679.24243\n",
      "[58]\tvalidation_0-rmse:2673.47949\n",
      "[59]\tvalidation_0-rmse:2670.70288\n",
      "[60]\tvalidation_0-rmse:2669.57519\n",
      "[61]\tvalidation_0-rmse:2669.77368\n",
      "[62]\tvalidation_0-rmse:2667.86377\n",
      "[63]\tvalidation_0-rmse:2668.08838\n",
      "[64]\tvalidation_0-rmse:2667.87988\n",
      "[65]\tvalidation_0-rmse:2663.65869\n",
      "[66]\tvalidation_0-rmse:2662.08106\n",
      "[67]\tvalidation_0-rmse:2661.25464\n",
      "[68]\tvalidation_0-rmse:2659.60303\n",
      "[69]\tvalidation_0-rmse:2659.98218\n",
      "[70]\tvalidation_0-rmse:2665.80981\n",
      "[71]\tvalidation_0-rmse:2668.11255\n",
      "[72]\tvalidation_0-rmse:2667.95801\n",
      "[73]\tvalidation_0-rmse:2665.55615\n",
      "[74]\tvalidation_0-rmse:2665.96753\n",
      "[75]\tvalidation_0-rmse:2665.34814\n",
      "[76]\tvalidation_0-rmse:2664.23144\n",
      "[77]\tvalidation_0-rmse:2662.89233\n"
     ]
    },
    {
     "data": {
      "text/plain": [
       "XGBRegressor(base_score=0.5, booster='gbtree', colsample_bylevel=1,\n",
       "             colsample_bynode=1, colsample_bytree=1, enable_categorical=False,\n",
       "             gamma=0, gpu_id=-1, importance_type=None,\n",
       "             interaction_constraints='', learning_rate=0.300000012,\n",
       "             max_delta_step=0, max_depth=6, min_child_weight=1, missing=nan,\n",
       "             monotone_constraints='()', n_estimators=100, n_jobs=8,\n",
       "             num_parallel_tree=1, predictor='auto', random_state=42,\n",
       "             reg_alpha=0, reg_lambda=1, scale_pos_weight=1, subsample=1,\n",
       "             tree_method='exact', validate_parameters=1, verbosity=None)"
      ]
     },
     "execution_count": 201,
     "metadata": {},
     "output_type": "execute_result"
    }
   ],
   "source": [
    "model_XGB = XGBRegressor(random_state = RANDOM_STATE)\n",
    "model_XGB.fit(X_scaled,Y_train, eval_set = [(X_cv_scaled,Y_cv)], early_stopping_rounds = 10)"
   ]
  },
  {
   "cell_type": "markdown",
   "metadata": {},
   "source": [
    "We can see from the output here that the best rmse for the XGBoost model is 2662. For clarity, we compare again to the previous models below"
   ]
  },
  {
   "cell_type": "code",
   "execution_count": 127,
   "metadata": {},
   "outputs": [
    {
     "name": "stdout",
     "output_type": "stream",
     "text": [
      "Decision Tree: \n",
      " Mean Squared Error = 11192471.92, Root Mean Squared Error = 3345.52\n",
      "Random Forest: \n",
      " Mean Squared Error = 8239980.32, Root Mean Squared Error = 2870.54\n",
      "XGBoost: \n",
      " Mean Squared Error = 7073488.06, Root Mean Squared Error = 2659.60\n"
     ]
    }
   ],
   "source": [
    "predictions_train_XGB = model_XGB.predict(X_scaled)\n",
    "predictions_cv_XGB = model_XGB.predict(X_cv_scaled)\n",
    "\n",
    "mse_XGB = mean_squared_error(Y_cv, predictions_cv_XGB)\n",
    "rmse_XGB = mse_XGB**.5\n",
    "\n",
    "print(f\"Decision Tree: \\n Mean Squared Error = {mse_DT:.2f}, Root Mean Squared Error = {rmse_DT:.2f}\")\n",
    "print(f\"Random Forest: \\n Mean Squared Error = {mse_RF:.2f}, Root Mean Squared Error = {rmse_RF:.2f}\")\n",
    "print(f\"XGBoost: \\n Mean Squared Error = {mse_XGB:.2f}, Root Mean Squared Error = {rmse_XGB:.2f}\")"
   ]
  },
  {
   "cell_type": "code",
   "execution_count": 118,
   "metadata": {
    "scrolled": true
   },
   "outputs": [
    {
     "data": {
      "image/png": "[encoded data removed]",
      "text/plain": [
       "<Figure size 432x288 with 1 Axes>"
      ]
     },
     "metadata": {
      "needs_background": "light"
     },
     "output_type": "display_data"
    }
   ],
   "source": [
    "sns.scatterplot(x=Y_train,y=predictions_train_XGB,alpha=0.5, label=\"Training\")\n",
    "sns.scatterplot(x=Y_cv,y=predictions_cv_XGB,alpha=0.3,label=\"CV\")\n",
    "plt.xlabel(\"True Moving Time (seconds)\")\n",
    "plt.ylabel(\"Predicted Moving Time (seconds)\")\n",
    "plt.legend()\n",
    "plt.title(\"Decision Tree Model\")\n",
    "plt.xlim(0,75000)\n",
    "plt.ylim(0,75000);"
   ]
  },
  {
   "cell_type": "markdown",
   "metadata": {},
   "source": [
    "Again, there's been some progress compared to the initial two models, but the error rate remains high. Moving forward, let's focus on the most promising contender so far: XGBoost, and try to improve it's predictions by tuning the features and default parameters."
   ]
  },
  {
   "cell_type": "markdown",
   "metadata": {},
   "source": [
    "# Feature Importance Analysis\n",
    "\n",
    "Currently, our model utilizes all available features, including one-hot encoded columns for users. However, it's essential to identify the most influential features to streamline our model and potentially improve its performance.\n",
    "\n",
    "Fortunately, the XGBoost model already contains a measure of the importance of each feature and we can easily extract this. The first 20 entries are shown below: "
   ]
  },
  {
   "cell_type": "code",
   "execution_count": 172,
   "metadata": {},
   "outputs": [
    {
     "name": "stdout",
     "output_type": "stream",
     "text": [
      "length_3d                      0.1824\n",
      "max_elevation                  0.0045\n",
      "uphill                         0.0312\n",
      "min_elevation                  0.0027\n",
      "downhill                       0.0365\n",
      "length_2d                      0.0000\n",
      "dif_num                        0.0051\n",
      "user_1Gehirner                 0.0010\n",
      "user_360                       0.0071\n",
      "user_3614m                     0.0000\n",
      "user_6beiner                   0.0000\n",
      "user_83_Stefan                 0.0000\n",
      "user_AIi                       0.0000\n",
      "user_ALE66                     0.0000\n",
      "user_AUF                       0.0000\n",
      "user_Abominevole               0.0000\n",
      "user_Alberto                   0.0000\n",
      "user_Alberto C.                0.0287\n",
      "user_Almoehi                   0.0000\n",
      "user_Amadeus                   0.0000\n"
     ]
    }
   ],
   "source": [
    "for col, score in zip(X_scaled.columns[:20], model_XGB.feature_importances_[:20]):\n",
    "    print(f\"{col:<30} {score:.4f}\")"
   ]
  },
  {
   "cell_type": "markdown",
   "metadata": {},
   "source": [
    "Upon inspection, we notice that certain features, particularly some of the one-hot encoded user columns, exhibit zero importance scores. Furthermore, 'length_2d' is also assigned a zero importance score. This may be somewhat expected as we also have the 'length_3d' and 'elevation' features. As a result, the 'length_2d' adds minimal additional information.\n",
    "\n",
    "Let's visualize the most important features. Firstly measuring the 'importance' using 'weight' which is the number of times a feature appears in a tree then using the average gain of splits which use the feature, 'gain'. "
   ]
  },
  {
   "cell_type": "code",
   "execution_count": 163,
   "metadata": {},
   "outputs": [
    {
     "data": {
      "text/plain": [
       "<matplotlib.axes._subplots.AxesSubplot at 0x7fae5a755978>"
      ]
     },
     "execution_count": 163,
     "metadata": {},
     "output_type": "execute_result"
    },
    {
     "data": {
      "image/png": "[encoded data removed]",
      "text/plain": [
       "<Figure size 432x288 with 1 Axes>"
      ]
     },
     "metadata": {
      "needs_background": "light"
     },
     "output_type": "display_data"
    }
   ],
   "source": [
    "plot_importance(model_XGB,max_num_features=10, importance_type='weight')"
   ]
  },
  {
   "cell_type": "code",
   "execution_count": 162,
   "metadata": {},
   "outputs": [
    {
     "data": {
      "text/plain": [
       "<matplotlib.axes._subplots.AxesSubplot at 0x7fae5a755dd8>"
      ]
     },
     "execution_count": 162,
     "metadata": {},
     "output_type": "execute_result"
    },
    {
     "data": {
      "image/png": "[encoded data removed]",
      "text/plain": [
       "<Figure size 432x288 with 1 Axes>"
      ]
     },
     "metadata": {
      "needs_background": "light"
     },
     "output_type": "display_data"
    }
   ],
   "source": [
    "plot_importance(model_XGB,max_num_features=10, importance_type='gain')"
   ]
  },
  {
   "cell_type": "markdown",
   "metadata": {},
   "source": [
    "While there are a lot of similarities, we do see that using 'weight' tends to highlight the numerical features while 'gain' gives more importance to some of the specific users."
   ]
  },
  {
   "cell_type": "markdown",
   "metadata": {},
   "source": [
    "### Selecting the most important features\n",
    "\n",
    "We expect the results to get gradually worse as we decrease the number of features however it is balance between accuracy of the results and efficiency of the model. To help choose how many features to use, we can plot the results as a function of the number of features. "
   ]
  },
  {
   "cell_type": "code",
   "execution_count": 208,
   "metadata": {},
   "outputs": [],
   "source": [
    "n_features = np.arange(1,50,1)\n",
    "best_rmse_by_n = []\n",
    "for n in n_features:\n",
    "    # Get the feature name and importance score for the top n features\n",
    "\n",
    "    top_indices = np.argsort(model_XGB.feature_importances_)[::-1][:n]\n",
    "    top_features = X_scaled.columns[top_indices]\n",
    "    X_top_features = X_scaled[top_features]\n",
    "\n",
    "    ### Rerun using only n the most important features\n",
    "    model_test_n = XGBRegressor(random_state = RANDOM_STATE)\n",
    "    model_test_n.fit(X_top_features,Y_train, eval_set = [(X_cv_scaled[top_features],Y_cv)], \n",
    "                  early_stopping_rounds = 10, verbose=False)\n",
    "    \n",
    "    #get the best rmse direct from the model rather than calculating it ourselves\n",
    "    best_rmse = np.min(model_test_n.evals_result()['validation_0']['rmse'])\n",
    "    best_rmse_by_n.append(best_rmse)\n"
   ]
  },
  {
   "cell_type": "code",
   "execution_count": 226,
   "metadata": {},
   "outputs": [
    {
     "name": "stderr",
     "output_type": "stream",
     "text": [
      "/home/emma/.local/lib/python3.6/site-packages/seaborn/_decorators.py:43: FutureWarning: Pass the following variables as keyword args: x, y. From version 0.12, the only valid positional argument will be `data`, and passing other arguments without an explicit keyword will result in an error or misinterpretation.\n",
      "  FutureWarning\n"
     ]
    },
    {
     "data": {
      "image/png": "[encoded data removed]",
      "text/plain": [
       "<Figure size 432x288 with 1 Axes>"
      ]
     },
     "metadata": {
      "needs_background": "light"
     },
     "output_type": "display_data"
    }
   ],
   "source": [
    "sns.lineplot(n_features,best_rmse_by_n)\n",
    "plt.xlim(0,50)\n",
    "plt.ylim(2650,)\n",
    "plt.xlabel(\"Number of features\")\n",
    "plt.ylabel(\"RMSE\");"
   ]
  },
  {
   "cell_type": "markdown",
   "metadata": {},
   "source": [
    "Sharp decrease from 1 to 5 featu"
   ]
  },
  {
   "cell_type": "code",
   "execution_count": 182,
   "metadata": {},
   "outputs": [
    {
     "name": "stdout",
     "output_type": "stream",
     "text": [
      "Most importance features (Using Gain):\n",
      "length_3d                      0.3117\n",
      "max_elevation                  0.0878\n",
      "min_elevation                  0.0453\n",
      "user_360                       0.0346\n",
      "dif_num                        0.0323\n",
      "user_3614m                     0.0312\n",
      "user_ALE66                     0.0290\n",
      "user_6beiner                   0.0289\n",
      "user_1Gehirner                 0.0278\n",
      "user_83_Stefan                 0.0278\n",
      "downhill                       0.0255\n",
      "user_Alberto                   0.0251\n",
      "length_2d                      0.0250\n",
      "uphill                         0.0241\n",
      "user_Barbacan                  0.0215\n",
      "user_AIi                       0.0212\n",
      "user_Ans                       0.0197\n",
      "user_Abominevole               0.0195\n",
      "user_Andy84                    0.0190\n",
      "user_AUF                       0.0180\n"
     ]
    }
   ],
   "source": [
    "# Get the feature name and importance score for the top n features\n",
    "n=20\n",
    "top_indices = np.argsort( model_XGB.feature_importances_)[::-1][:n]\n",
    "top_features = X_scaled.columns[top_indices]\n",
    "top_importances = model_XGB.feature_importances_[top_indices]\n",
    "\n",
    "print(\"Most importance features (Using Gain):\")\n",
    "for col, score in zip(top_features, top_importances):\n",
    "    print(f\"{col:<30} {score:.4f}\")\n",
    "    \n",
    "X_top_features = X_scaled[top_features]"
   ]
  },
  {
   "cell_type": "code",
   "execution_count": null,
   "metadata": {},
   "outputs": [],
   "source": []
  },
  {
   "cell_type": "markdown",
   "metadata": {},
   "source": [
    "# Hyperparameter tuning"
   ]
  },
  {
   "cell_type": "code",
   "execution_count": 132,
   "metadata": {
    "scrolled": true
   },
   "outputs": [
    {
     "name": "stdout",
     "output_type": "stream",
     "text": [
      "[0]\tvalidation_0-rmse:14115.51172\n",
      "[1]\tvalidation_0-rmse:10278.58789\n",
      "[2]\tvalidation_0-rmse:7650.33936\n",
      "[3]\tvalidation_0-rmse:5890.98633\n",
      "[4]\tvalidation_0-rmse:4716.01855\n",
      "[5]\tvalidation_0-rmse:4060.79663\n",
      "[6]\tvalidation_0-rmse:3624.64258\n",
      "[7]\tvalidation_0-rmse:3377.30566\n",
      "[8]\tvalidation_0-rmse:3223.10522\n",
      "[9]\tvalidation_0-rmse:3121.07397\n",
      "[10]\tvalidation_0-rmse:3037.60596\n",
      "[11]\tvalidation_0-rmse:2991.60938\n",
      "[12]\tvalidation_0-rmse:2960.41626\n",
      "[13]\tvalidation_0-rmse:2942.82007\n",
      "[14]\tvalidation_0-rmse:2927.39526\n",
      "[15]\tvalidation_0-rmse:2912.72339\n",
      "[16]\tvalidation_0-rmse:2898.56787\n",
      "[17]\tvalidation_0-rmse:2884.11206\n",
      "[18]\tvalidation_0-rmse:2866.25293\n",
      "[19]\tvalidation_0-rmse:2862.42017\n",
      "[20]\tvalidation_0-rmse:2848.30054\n",
      "[21]\tvalidation_0-rmse:2835.46606\n",
      "[22]\tvalidation_0-rmse:2824.95752\n",
      "[23]\tvalidation_0-rmse:2820.19946\n",
      "[24]\tvalidation_0-rmse:2818.54224\n",
      "[25]\tvalidation_0-rmse:2805.80225\n",
      "[26]\tvalidation_0-rmse:2800.11060\n",
      "[27]\tvalidation_0-rmse:2792.08594\n",
      "[28]\tvalidation_0-rmse:2786.16797\n",
      "[29]\tvalidation_0-rmse:2782.45361\n",
      "[30]\tvalidation_0-rmse:2772.56299\n",
      "[31]\tvalidation_0-rmse:2766.17017\n",
      "[32]\tvalidation_0-rmse:2762.22412\n",
      "[33]\tvalidation_0-rmse:2760.86987\n",
      "[34]\tvalidation_0-rmse:2751.03833\n",
      "[35]\tvalidation_0-rmse:2750.61133\n",
      "[36]\tvalidation_0-rmse:2746.04394\n",
      "[37]\tvalidation_0-rmse:2739.39893\n",
      "[38]\tvalidation_0-rmse:2732.14502\n",
      "[39]\tvalidation_0-rmse:2727.44458\n",
      "[40]\tvalidation_0-rmse:2724.80566\n",
      "[41]\tvalidation_0-rmse:2723.04565\n",
      "[42]\tvalidation_0-rmse:2722.46655\n",
      "[43]\tvalidation_0-rmse:2719.85718\n",
      "[44]\tvalidation_0-rmse:2709.01587\n",
      "[45]\tvalidation_0-rmse:2709.34448\n",
      "[46]\tvalidation_0-rmse:2707.88525\n",
      "[47]\tvalidation_0-rmse:2701.63062\n",
      "[48]\tvalidation_0-rmse:2691.69214\n",
      "[49]\tvalidation_0-rmse:2696.68872\n",
      "[50]\tvalidation_0-rmse:2694.55884\n",
      "[51]\tvalidation_0-rmse:2694.37549\n",
      "[52]\tvalidation_0-rmse:2691.71655\n",
      "[53]\tvalidation_0-rmse:2689.44360\n",
      "[54]\tvalidation_0-rmse:2686.03809\n",
      "[55]\tvalidation_0-rmse:2681.28687\n",
      "[56]\tvalidation_0-rmse:2679.79199\n",
      "[57]\tvalidation_0-rmse:2679.24243\n",
      "[58]\tvalidation_0-rmse:2673.47949\n",
      "[59]\tvalidation_0-rmse:2670.70288\n",
      "[60]\tvalidation_0-rmse:2669.57519\n",
      "[61]\tvalidation_0-rmse:2669.77368\n",
      "[62]\tvalidation_0-rmse:2667.86377\n",
      "[63]\tvalidation_0-rmse:2668.08838\n",
      "[64]\tvalidation_0-rmse:2667.87988\n",
      "[65]\tvalidation_0-rmse:2663.65869\n",
      "[66]\tvalidation_0-rmse:2662.08106\n",
      "[67]\tvalidation_0-rmse:2661.25488\n",
      "[68]\tvalidation_0-rmse:2659.60303\n",
      "[69]\tvalidation_0-rmse:2659.98193\n",
      "[70]\tvalidation_0-rmse:2665.80981\n",
      "[71]\tvalidation_0-rmse:2668.11255\n",
      "[72]\tvalidation_0-rmse:2667.95801\n",
      "[73]\tvalidation_0-rmse:2665.55615\n",
      "[74]\tvalidation_0-rmse:2665.96753\n",
      "[75]\tvalidation_0-rmse:2665.34814\n",
      "[76]\tvalidation_0-rmse:2664.23144\n",
      "[77]\tvalidation_0-rmse:2662.89233\n",
      "[78]\tvalidation_0-rmse:2660.97681\n"
     ]
    }
   ],
   "source": [
    "# Setting up MLflow to track model and parameters\n",
    "\n",
    "with mlflow.start_run():\n",
    "    model_XGB = XGBRegressor(random_state = RANDOM_STATE)\n",
    "    model_XGB.fit(X_scaled,Y_train, eval_set = [(X_cv_scaled,Y_cv)], early_stopping_rounds = 10)\n",
    "\n",
    "    predictions_cv_XGB = model_XGB.predict(X_cv_scaled)\n",
    "\n",
    "    mse_XGB = mean_squared_error(Y_cv, predictions_cv_XGB)\n",
    "    rmse_XGB = mse_XGB**.5\n",
    "\n",
    "    mlflow.log_param('random_state', RANDOM_STATE)\n",
    "    mlflow.log_param('early_stopping_rounds', 10)\n",
    "    mlflow.log_metric('mse', mse_XGB)\n",
    "    mlflow.log_metric('rmse', rmse_XGB)\n",
    "    mlflow.sklearn.log_model(model_XGB, 'model_XGB')\n",
    "    #mlflow.xgboost.save_model(model_XGB, 'model_XGB')"
   ]
  },
  {
   "cell_type": "code",
   "execution_count": null,
   "metadata": {},
   "outputs": [],
   "source": []
  }
 ],
 "metadata": {
  "kernelspec": {
   "display_name": "Python 3",
   "language": "python",
   "name": "python3"
  },
  "language_info": {
   "codemirror_mode": {
    "name": "ipython",
    "version": 3
   },
   "file_extension": ".py",
   "mimetype": "text/x-python",
   "name": "python",
   "nbconvert_exporter": "python",
   "pygments_lexer": "ipython3",
   "version": "3.6.9"
  }
 },
 "nbformat": 4,
 "nbformat_minor": 2
}
